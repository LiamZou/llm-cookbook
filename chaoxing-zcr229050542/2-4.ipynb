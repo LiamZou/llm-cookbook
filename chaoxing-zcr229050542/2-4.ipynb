{
 "cells": [
  {
   "cell_type": "markdown",
   "metadata": {},
   "source": [
    "实现一个简单的情感分析功能。"
   ]
  },
  {
   "cell_type": "code",
   "execution_count": 11,
   "metadata": {},
   "outputs": [],
   "source": [
    "def sentiment_analysis(user_review):\n",
    "    \"\"\"\n",
    "    对用户评论进行简单的情感分析\n",
    "    \n",
    "    参数:\n",
    "    user_review (str): 用户评论\n",
    "    \n",
    "    返回:\n",
    "    str: 情感倾向（\"正面\"、\"负面\"或\"中性\"）\n",
    "    \"\"\"\n",
    "    # 预定义的正面和负面词汇列表\n",
    "    positive_words = [\"棒\", \"喜欢\", \"好\", \"满意\", \"推荐\", \"惊喜\", \"优秀\", \"出色\", \"完美\", \"不错\"]\n",
    "    negative_words = [\"差\", \"失望\", \"糟糕\", \"不好\", \"差劲\", \"抱怨\", \"讨厌\", \"问题\", \"坏\", \"失败\"]\n",
    "    negation_words = [\"没有\", \"不\", \"无\", \"未\"]\n",
    "\n",
    "    # 初始化正负面计数\n",
    "    positive_count = 0\n",
    "    negative_count = 0\n",
    "\n",
    "    # 将评论转为小写，便于匹配\n",
    "    review_lower = user_review.lower()\n",
    "\n",
    "    # 先检查否定词，如果有否定词，将其影响到后面的情感词\n",
    "    has_negation = any(negation in review_lower for negation in negation_words)\n",
    "\n",
    "    # 统计正面和负面词汇的出现次数\n",
    "    for word in positive_words:\n",
    "        if word in review_lower:\n",
    "            positive_count += -1 if has_negation else 1\n",
    "\n",
    "    for word in negative_words:\n",
    "        if word in review_lower:\n",
    "            negative_count += -1 if has_negation else 1\n",
    "\n",
    "    # 根据正负词汇的数量判断情感倾向\n",
    "    if positive_count > negative_count:\n",
    "        return \"正面\"\n",
    "    elif negative_count > positive_count:\n",
    "        return \"负面\"\n",
    "    else:\n",
    "        return \"中性\"\n"
   ]
  },
  {
   "cell_type": "code",
   "execution_count": 12,
   "metadata": {},
   "outputs": [
    {
     "name": "stdout",
     "output_type": "stream",
     "text": [
      "正面\n"
     ]
    }
   ],
   "source": [
    "review1 = \"这个产品太棒了，我非常喜欢！\"\n",
    "print(sentiment_analysis(review1))  "
   ]
  },
  {
   "cell_type": "code",
   "execution_count": 13,
   "metadata": {},
   "outputs": [
    {
     "name": "stdout",
     "output_type": "stream",
     "text": [
      "负面\n"
     ]
    }
   ],
   "source": [
    "review2 = \"质量很差，我感到非常失望。\"\n",
    "print(sentiment_analysis(review2)) "
   ]
  },
  {
   "cell_type": "code",
   "execution_count": 14,
   "metadata": {},
   "outputs": [
    {
     "name": "stdout",
     "output_type": "stream",
     "text": [
      "中性\n"
     ]
    }
   ],
   "source": [
    "review3 = \"没有评论。\"\n",
    "print(sentiment_analysis(review3))"
   ]
  }
 ],
 "metadata": {
  "kernelspec": {
   "display_name": ".venv",
   "language": "python",
   "name": "python3"
  },
  "language_info": {
   "codemirror_mode": {
    "name": "ipython",
    "version": 3
   },
   "file_extension": ".py",
   "mimetype": "text/x-python",
   "name": "python",
   "nbconvert_exporter": "python",
   "pygments_lexer": "ipython3",
   "version": "3.8.10"
  }
 },
 "nbformat": 4,
 "nbformat_minor": 2
}
