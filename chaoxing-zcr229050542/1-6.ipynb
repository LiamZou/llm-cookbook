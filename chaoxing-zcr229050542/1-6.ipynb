{
 "cells": [
  {
   "cell_type": "code",
   "execution_count": 3,
   "metadata": {},
   "outputs": [
    {
     "name": "stdout",
     "output_type": "stream",
     "text": [
      "sk\n"
     ]
    }
   ],
   "source": [
    "import os\n",
    "from openai import OpenAI\n",
    "\n",
    "\n",
    "\n",
    "client = OpenAI(\n",
    "  api_key=\"\",\n",
    "  base_url=\"https://api.deepseek.com\"\n",
    ")\n",
    "deployment = \"deepseek-chat\" \n",
    "print(client.api_key[:2])"
   ]
  },
  {
   "cell_type": "markdown",
   "metadata": {},
   "source": [
    "创建一个代码解释器，能够接收一段Python代码，并生成对该代码的详细解释。要求解释的详细程度根据用户指定的最大token数量动态调整。"
   ]
  },
  {
   "cell_type": "code",
   "execution_count": 4,
   "metadata": {},
   "outputs": [
    {
     "name": "stdout",
     "output_type": "stream",
     "text": [
      "代码解释:\n",
      "这段Python代码实现了一个归并排序（Merge Sort）算法。归并排序是一种分治算法，它将一个数组分成两个子数组，分别对这两个子数组进行排序，然后将排序后的子数组合并成一个有序的数组。\n",
      "\n",
      "### 代码解释：\n",
      "\n",
      "1. **`merge_sort(arr)` 函数**：\n",
      "   - 这个函数是归并排序的主函数。\n",
      "   - 首先，它检查数组 `arr` 的长度是否小于等于1。如果是，说明数组已经是有序的（或者为空），直接返回该数组。\n",
      "   - 否则，计算数组的中间位置 `mid`，并将数组分成两个子数组：`left_half` 和 `right_half`。\n",
      "   - 然后，递归地对这两个子数组调用 `merge_sort` 函数，\n",
      "使用的 token 数量: 395\n"
     ]
    }
   ],
   "source": [
    "def get_completion(prompt, max_tokens=250, temperature=0.7):\n",
    "    messages = [{\"role\": \"user\", \"content\": prompt}]\n",
    "    response = client.chat.completions.create(\n",
    "        model=deployment,\n",
    "        messages=messages,\n",
    "        temperature=temperature,\n",
    "        max_tokens=max_tokens\n",
    "    )\n",
    "    content = response.choices[0].message.content\n",
    "    token_usage = response.usage.total_tokens\n",
    "    return content, token_usage\n",
    "\n",
    "def explain_code(code, max_tokens=250):\n",
    "    prompt = f\"请详细解释以下Python代码，要求的最大token数量为 {max_tokens}:\\n\\n{code}\"\n",
    "\n",
    "    explanation, tokens_used = get_completion(prompt, max_tokens=max_tokens)\n",
    "    \n",
    "    return explanation.strip(), tokens_used\n",
    "\n",
    "# 示例Python代码\n",
    "python_code = \"\"\"\n",
    "def merge_sort(arr):\n",
    "    if len(arr) <= 1:\n",
    "        return arr\n",
    "    else:\n",
    "        mid = len(arr) // 2\n",
    "        left_half = merge_sort(arr[:mid])\n",
    "        right_half = merge_sort(arr[mid:])\n",
    "        \n",
    "        return merge(left_half, right_half)\n",
    "\n",
    "def merge(left, right):\n",
    "    merged = []\n",
    "    while left and right:\n",
    "        if left[0] < right[0]:\n",
    "            merged.append(left.pop(0))\n",
    "        else:\n",
    "            merged.append(right.pop(0))\n",
    "    \n",
    "    # Append any remaining elements\n",
    "    merged.extend(left)\n",
    "    merged.extend(right)\n",
    "    return merged\n",
    "\"\"\"\n",
    "\n",
    "# 调用解释函数，设置最大token数量\n",
    "max_token_count = 200\n",
    "explanation_result, tokens_used = explain_code(python_code, max_tokens=max_token_count)\n",
    "\n",
    "print(f\"代码解释:\\n{explanation_result}\")\n",
    "print(f\"使用的 token 数量: {tokens_used}\")\n"
   ]
  }
 ],
 "metadata": {
  "kernelspec": {
   "display_name": ".venv",
   "language": "python",
   "name": "python3"
  },
  "language_info": {
   "codemirror_mode": {
    "name": "ipython",
    "version": 3
   },
   "file_extension": ".py",
   "mimetype": "text/x-python",
   "name": "python",
   "nbconvert_exporter": "python",
   "pygments_lexer": "ipython3",
   "version": "3.8.10"
  }
 },
 "nbformat": 4,
 "nbformat_minor": 2
}
