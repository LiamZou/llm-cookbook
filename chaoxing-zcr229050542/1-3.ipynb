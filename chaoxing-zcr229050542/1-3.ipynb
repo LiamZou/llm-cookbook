{
 "cells": [
  {
   "cell_type": "code",
   "execution_count": 5,
   "metadata": {},
   "outputs": [
    {
     "name": "stdout",
     "output_type": "stream",
     "text": [
      "sk\n"
     ]
    }
   ],
   "source": [
    "import os\n",
    "from openai import OpenAI\n",
    "\n",
    "\n",
    "\n",
    "client = OpenAI(\n",
    "  api_key=\"sk-6545ebf14a1448d08d9dae2a0210fd03\",\n",
    "  base_url=\"https://api.deepseek.com\"\n",
    ")\n",
    "deployment = \"deepseek-chat\" \n",
    "print(client.api_key[:2])"
   ]
  },
  {
   "cell_type": "markdown",
   "metadata": {},
   "source": [
    "创建一个聊天机器人，能够记住对话历史。实现一个函数，使得机器人能够根据之前的对话内容来回答问题。并在token数量超过某个阈值时，压缩或删除最早的对话记录。"
   ]
  },
  {
   "cell_type": "code",
   "execution_count": 6,
   "metadata": {},
   "outputs": [
    {
     "name": "stdout",
     "output_type": "stream",
     "text": [
      "Bot: \"1\" 的英文是 \"one\"。\n",
      "Bot: 你好！很高兴见到你。有什么我可以帮忙的吗？\n",
      "Bot: \"2\" 的英文是 \"two\"。\n",
      "Bot: \"3\" 的英文是 \"three\"。\n",
      "Bot: \"5\" 的英文是 \"five\"。\n",
      "Bot: 刚才提到的所有数字是 1, 2, 3, 5。\n",
      "\n",
      "将它们加起来：\n",
      "\n",
      "1 + 2 + 3 + 5 = 11\n",
      "\n",
      "所以，这些数字加起来的总和是 11。\n",
      "Bot: 将刚才的总和 11 再加上 100：\n",
      "\n",
      "11 + 100 = 111\n",
      "\n",
      "所以，再加上 100 后的结果是 111。\n",
      "Bot: 好的，如果你有其他问题或需要进一步的帮助，请随时告诉我！\n"
     ]
    }
   ],
   "source": [
    "\n",
    "conversation_history = []\n",
    "\n",
    "# 设置 token 数量阈值\n",
    "TOKEN_LIMIT = 2048\n",
    "\n",
    "def count_tokens(text):\n",
    "    return len(text.split())\n",
    "\n",
    "def add_to_history(role, content):\n",
    "    conversation_history.append({\"role\": role, \"content\": content})\n",
    "\n",
    "def compress_history():\n",
    "    global conversation_history\n",
    "    while sum(count_tokens(msg[\"content\"]) for msg in conversation_history) > TOKEN_LIMIT:\n",
    "        conversation_history.pop(0) \n",
    "\n",
    "def generate_response(prompt):\n",
    "    add_to_history(\"user\", prompt)\n",
    "    compress_history()\n",
    "\n",
    "    response = client.chat.completions.create(\n",
    "        model=deployment,\n",
    "        messages=conversation_history\n",
    "    )\n",
    "\n",
    "    assistant_response = response.choices[0].message.content\n",
    "    add_to_history(\"assistant\", assistant_response)\n",
    "\n",
    "    return assistant_response\n",
    "\n",
    "# 示例对话\n",
    "while True:\n",
    "    user_input = input(\"You: \")\n",
    "    if user_input.lower() in [\"exit\", \"quit\"]:\n",
    "        break\n",
    "    response = generate_response(user_input)\n",
    "    print(f\"Bot: {response}\")"
   ]
  }
 ],
 "metadata": {
  "kernelspec": {
   "display_name": ".venv",
   "language": "python",
   "name": "python3"
  },
  "language_info": {
   "codemirror_mode": {
    "name": "ipython",
    "version": 3
   },
   "file_extension": ".py",
   "mimetype": "text/x-python",
   "name": "python",
   "nbconvert_exporter": "python",
   "pygments_lexer": "ipython3",
   "version": "3.8.10"
  }
 },
 "nbformat": 4,
 "nbformat_minor": 2
}
