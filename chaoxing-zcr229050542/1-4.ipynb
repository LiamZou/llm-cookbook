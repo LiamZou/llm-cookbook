{
 "cells": [
  {
   "cell_type": "code",
   "execution_count": 8,
   "metadata": {},
   "outputs": [
    {
     "name": "stdout",
     "output_type": "stream",
     "text": [
      "sk\n"
     ]
    }
   ],
   "source": [
    "c"
   ]
  },
  {
   "cell_type": "markdown",
   "metadata": {},
   "source": [
    "设计一个翻译系统，能够自动检测输入的语言，并将其翻译成用户指定的目标语言。并记录每次翻译所使用的token数量。"
   ]
  },
  {
   "cell_type": "code",
   "execution_count": 11,
   "metadata": {},
   "outputs": [
    {
     "name": "stdout",
     "output_type": "stream",
     "text": [
      "识别出的语言: 这段话的语言种类是英语。这句话的意思是“不要把今天能\n",
      "翻译后的内容: 今日事，今日毕。\n",
      " token 总数: 30\n"
     ]
    }
   ],
   "source": [
    "def generate_reply(query_text, token_limit=250):\n",
    "    message_data = [{\"role\": \"user\", \"content\": query_text}]\n",
    "    reply = client.chat.completions.create(\n",
    "        model=deployment,\n",
    "        messages=message_data,\n",
    "        temperature=0.65,  \n",
    "        max_tokens=token_limit\n",
    "    )\n",
    "    reply_text = reply.choices[0].message.content\n",
    "    total_tokens_used = reply.usage.total_tokens\n",
    "    return reply_text, total_tokens_used\n",
    "\n",
    "def recognize_language(text_input):\n",
    "    query_prompt = f\"请分析这段话的语言种类: {text_input}\"\n",
    "    language_detected, _ = generate_reply(query_prompt, token_limit=15)\n",
    "    return language_detected.strip()\n",
    "\n",
    "def convert_to_mandarin(text_input):\n",
    "    query_prompt = f\"请将以下内容翻译成简体中文: {text_input}\"\n",
    "    translated_output, tokens_used = generate_reply(query_prompt, token_limit=120)\n",
    "    return translated_output.strip(), tokens_used\n",
    "\n",
    "sample_text = \"Never put off what you can do today until tomorrow.\"\n",
    "\n",
    "identified_language = recognize_language(sample_text)\n",
    "print(f\"识别出的语言: {identified_language}\")\n",
    "\n",
    "translated_text, tokens_used = convert_to_mandarin(sample_text)\n",
    "print(f\"翻译后的内容: {translated_text}\")\n",
    "print(f\" token 总数: {tokens_used}\")\n"
   ]
  }
 ],
 "metadata": {
  "kernelspec": {
   "display_name": ".venv",
   "language": "python",
   "name": "python3"
  },
  "language_info": {
   "codemirror_mode": {
    "name": "ipython",
    "version": 3
   },
   "file_extension": ".py",
   "mimetype": "text/x-python",
   "name": "python",
   "nbconvert_exporter": "python",
   "pygments_lexer": "ipython3",
   "version": "3.8.10"
  }
 },
 "nbformat": 4,
 "nbformat_minor": 2
}
