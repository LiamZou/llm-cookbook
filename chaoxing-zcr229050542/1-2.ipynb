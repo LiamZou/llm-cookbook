{
 "cells": [
  {
   "cell_type": "markdown",
   "metadata": {},
   "source": [
    "实现一个函数，使用OpenAI API生成一篇短文，但要求控制生成的token数量在200到300之间。"
   ]
  },
  {
   "cell_type": "code",
   "execution_count": 2,
   "metadata": {},
   "outputs": [
    {
     "name": "stdout",
     "output_type": "stream",
     "text": [
      "sk\n"
     ]
    }
   ],
   "source": [
    "import os\n",
    "from openai import OpenAI\n",
    "\n",
    "\n",
    "\n",
    "client = OpenAI(\n",
    "  api_key=\"sk-\",\n",
    "  base_url=\"https://api.deepseek.com\"\n",
    ")\n",
    "deployment = \"deepseek-chat\" \n",
    "print(client.api_key[:2])"
   ]
  },
  {
   "cell_type": "code",
   "execution_count": 4,
   "metadata": {},
   "outputs": [
    {
     "name": "stdout",
     "output_type": "stream",
     "text": [
      "短文:\n",
      "杭州，这座位于中国东南部的城市，以其丰富的历史文化和美丽的自然风光而闻名于世。作为中国七大古都之一，杭州拥有超过2200年的历史，是吴越文化和南宋文化的重要发源地。\n",
      "\n",
      "杭州的历史可以追溯到公元前222年，当时它是越国的都城。随着时间的推移，杭州逐渐发展成为一个重要的政治、经济和文化中心。特别是在南宋时期（1127-1279年），杭州成为了中国的首都，被称为“临安”，是当时世界上最繁华的城市之一。这一时期，杭州的文化和艺术达到了巅峰，诗词、绘画、书法等艺术形式在这里蓬勃发展。\n",
      "\n",
      "杭州的文化遗产丰富多样，其中最著名的莫过于西湖。西湖被誉为“人间天堂”，是中国最著名的风景名胜区之一。它的美丽景色激发了无数文人墨客的灵感，留下了大量的诗词和绘画作品。西湖十景，如苏堤春晓、断桥残雪、雷峰夕照等，都是中国传统文化的瑰宝。\n",
      "\n",
      "除了西湖，杭州还有许多其他的历史文化遗迹。灵隐寺是中国最古老的佛教寺庙之一，建于公元326年，是佛教禅宗的重要道场。六和塔则是杭州的标志性建筑之一，\n",
      "\n",
      "Token数: 286\n"
     ]
    }
   ],
   "source": [
    "def get_completion(prompt, max_tokens=270):\n",
    "    messages = [{\"role\": \"user\", \"content\": prompt}]\n",
    "    response = client.chat.completions.create(\n",
    "        model=deployment,\n",
    "        messages=messages,\n",
    "        temperature=0.7,\n",
    "        max_tokens=max_tokens\n",
    "    )\n",
    "    content = response.choices[0].message.content\n",
    "    token_usage = response.usage.total_tokens\n",
    "    return content, token_usage\n",
    "\n",
    "# 更新主题\n",
    "prompt = \"写一篇短文，主题是介绍杭州的文化和历史。\"\n",
    "story, token_usage = get_completion(prompt, max_tokens=270)\n",
    "print(\"短文:\")\n",
    "print(story)\n",
    "print(\"\\nToken数:\", token_usage)\n"
   ]
  }
 ],
 "metadata": {
  "kernelspec": {
   "display_name": ".venv",
   "language": "python",
   "name": "python3"
  },
  "language_info": {
   "codemirror_mode": {
    "name": "ipython",
    "version": 3
   },
   "file_extension": ".py",
   "mimetype": "text/x-python",
   "name": "python",
   "nbconvert_exporter": "python",
   "pygments_lexer": "ipython3",
   "version": "3.8.10"
  }
 },
 "nbformat": 4,
 "nbformat_minor": 2
}
