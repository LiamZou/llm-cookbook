{
 "cells": [
  {
   "cell_type": "markdown",
   "metadata": {},
   "source": [
    "编写一个简单的函数,生成客服回复。"
   ]
  },
  {
   "cell_type": "code",
   "execution_count": 3,
   "metadata": {},
   "outputs": [
    {
     "name": "stdout",
     "output_type": "stream",
     "text": [
      "联想拯救者Y9000X 的价格是 $1499.99。\n"
     ]
    }
   ],
   "source": [
    "def generate_response(user_query, product_info):\n",
    "    \"\"\"\n",
    "    根据用户查询和产品信息生成客服回复\n",
    "    \n",
    "    参数:\n",
    "    user_query (str): 用户的查询\n",
    "    product_info (dict): 产品信息字典\n",
    "    \n",
    "    返回:\n",
    "    str: 生成的客服回复\n",
    "    \"\"\"\n",
    "    # 提取产品信息\n",
    "    product_name = product_info.get(\"name\", \"这个产品\")\n",
    "    product_price = product_info.get(\"price\", \"价格未知\")\n",
    "    product_stock = product_info.get(\"stock\", \"库存未知\")\n",
    "    product_features = product_info.get(\"features\", \"特性未知\")\n",
    "\n",
    "    # 根据用户查询生成回复\n",
    "    if \"价格\" in user_query or \"多少钱\" in user_query:\n",
    "        response = f\"{product_name} 的价格是 ${product_price}。\"\n",
    "    elif \"库存\" in user_query or \"有货吗\" in user_query:\n",
    "        response = f\"{product_name} 目前的库存情况是：{product_stock}。\"\n",
    "    elif \"特性\" in user_query or \"功能\" in user_query:\n",
    "        response = f\"{product_name} 的主要功能包括：{product_features}。\"\n",
    "    else:\n",
    "        response = f\"感谢您的询问，我们会尽快为您提供 {product_name} 的详细信息。\"\n",
    "\n",
    "    return response\n",
    "\n",
    "# 使用真实的笔记本电脑信息\n",
    "query = \"联想拯救者Y9000X的价格是多少?\"\n",
    "product_info = {\n",
    "    \"name\": \"联想拯救者Y9000X\",\n",
    "    \"price\": 1499.99,\n",
    "    \"stock\": \"有货\",\n",
    "    \"features\": \"Intel i7-12700H 处理器，NVIDIA RTX 3060显卡，16GB内存，512GB SSD存储\"\n",
    "}\n",
    "\n",
    "print(generate_response(query, product_info))\n"
   ]
  }
 ],
 "metadata": {
  "kernelspec": {
   "display_name": ".venv",
   "language": "python",
   "name": "python3"
  },
  "language_info": {
   "codemirror_mode": {
    "name": "ipython",
    "version": 3
   },
   "file_extension": ".py",
   "mimetype": "text/x-python",
   "name": "python",
   "nbconvert_exporter": "python",
   "pygments_lexer": "ipython3",
   "version": "3.8.10"
  }
 },
 "nbformat": 4,
 "nbformat_minor": 2
}
