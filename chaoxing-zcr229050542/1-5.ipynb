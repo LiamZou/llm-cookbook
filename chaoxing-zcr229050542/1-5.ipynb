{
 "cells": [
  {
   "cell_type": "code",
   "execution_count": 1,
   "metadata": {},
   "outputs": [
    {
     "name": "stdout",
     "output_type": "stream",
     "text": [
      "sk\n"
     ]
    }
   ],
   "source": [
    "import os\n",
    "from openai import OpenAI\n",
    "\n",
    "\n",
    "\n",
    "client = OpenAI(\n",
    "  api_key=\"\",\n",
    "  base_url=\"https://api.deepseek.com\"\n",
    ")\n",
    "deployment = \"deepseek-chat\" \n",
    "print(client.api_key[:2])"
   ]
  },
  {
   "cell_type": "markdown",
   "metadata": {},
   "source": [
    "实现一个文本摘要功能，能够将长文本压缩成指定长度的摘要。设置适当的temperature参数来控制摘要的创意性。"
   ]
  },
  {
   "cell_type": "code",
   "execution_count": 3,
   "metadata": {},
   "outputs": [
    {
     "name": "stdout",
     "output_type": "stream",
     "text": [
      "摘要（创意性较低）: 人工智能（AI）是研究智能体的学科，指感知环境并采取行动以实现目标的设备。AI模仿人类思维，如学习和解决问题，已广泛应用于医疗、金融、教育等领域，带来巨大变革，但也引发伦理和法律挑战。随着技术发展，AI在自动驾驶、智能家居、语音识别等方面不断扩展，预计将对社会结构和就业市场产生深远影响。\n",
      "使用的 token 数量: 269\n",
      "摘要（创意性较高）: 人工智能（AI）是研究智能体的学科，指机器感知环境并采取行动以实现目标。AI模仿人类思维，如学习和解决问题，已广泛应用于医疗、金融、教育等领域，带来巨大变革，但也引发伦理和法律挑战。随着技术发展，AI在自动驾驶、智能家居、语音识别等方面不断扩展，预计将对社会结构和就业市场产生深远影响。\n",
      "使用的 token 数量: 268\n"
     ]
    }
   ],
   "source": [
    "def get_completion(prompt, max_tokens=250, temperature=0.7):\n",
    "    messages = [{\"role\": \"user\", \"content\": prompt}]\n",
    "    response = client.chat.completions.create(\n",
    "        model=deployment,\n",
    "        messages=messages,\n",
    "        temperature=temperature,\n",
    "        max_tokens=max_tokens\n",
    "    )\n",
    "    content = response.choices[0].message.content\n",
    "    token_usage = response.usage.total_tokens\n",
    "    return content, token_usage\n",
    "\n",
    "def summarize_text(long_text, summary_length=100, temperature=0.5):\n",
    "    prompt = f\"请将以下中文文本压缩成一个长度为 {summary_length} 个字符的摘要: {long_text}\"\n",
    "    \n",
    "    summary, tokens_used = get_completion(prompt, max_tokens=summary_length, temperature=temperature)\n",
    "    \n",
    "    return summary, tokens_used\n",
    "\n",
    "# 示例长文本\n",
    "long_text = (\n",
    "    \"人工智能（AI）是机器表现出的智能，与人类和动物表现出的自然智能相对立。\"\n",
    "    \"领导性的人工智能教材将这一领域定义为研究“智能体”的学科，智能体是指任何感知其环境并采取行动以最大化成功实现其目标的设备。\"\n",
    "    \"在日常用语中，人工智能通常用来描述那些模仿人类思维的机器（或计算机），\"\n",
    "    \"这些思维功能包括‘学习’和‘解决问题’等人类大脑所特有的认知能力。\"\n",
    "    \"人工智能的应用已经渗透到各个行业，包括医疗、金融、教育等领域，\"\n",
    "    \"它为人类社会带来了巨大的变革，同时也提出了许多伦理和法律上的挑战。\"\n",
    "    \"随着技术的不断发展，人工智能在自动驾驶、智能家居、语音识别等方面的应用不断扩展，\"\n",
    "    \"预计将在未来几十年内对社会结构和就业市场产生深远影响。\"\n",
    ")\n",
    "\n",
    "# 使用较低创意性的 temperature 生成摘要\n",
    "summary_result, tokens_used = summarize_text(long_text, summary_length=150, temperature=0.5)\n",
    "print(f\"摘要（创意性较低）: {summary_result}\")\n",
    "print(f\"使用的 token 数量: {tokens_used}\")\n",
    "\n",
    "# 使用较高创意性的 temperature 生成摘要\n",
    "summary_result_creative, tokens_used_creative = summarize_text(long_text, summary_length=150, temperature=0.8)\n",
    "print(f\"摘要（创意性较高）: {summary_result_creative}\")\n",
    "print(f\"使用的 token 数量: {tokens_used_creative}\")\n"
   ]
  }
 ],
 "metadata": {
  "kernelspec": {
   "display_name": ".venv",
   "language": "python",
   "name": "python3"
  },
  "language_info": {
   "codemirror_mode": {
    "name": "ipython",
    "version": 3
   },
   "file_extension": ".py",
   "mimetype": "text/x-python",
   "name": "python",
   "nbconvert_exporter": "python",
   "pygments_lexer": "ipython3",
   "version": "3.8.10"
  }
 },
 "nbformat": 4,
 "nbformat_minor": 2
}
