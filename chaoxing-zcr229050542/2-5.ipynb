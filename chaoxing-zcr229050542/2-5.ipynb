{
 "cells": [
  {
   "cell_type": "markdown",
   "metadata": {},
   "source": [
    "实现一个简单的查询扩展功能。"
   ]
  },
  {
   "cell_type": "code",
   "execution_count": 19,
   "metadata": {},
   "outputs": [
    {
     "name": "stdout",
     "output_type": "stream",
     "text": [
      "Requirement already satisfied: jieba in /workspaces/llm-cookbook/.venv/lib/python3.8/site-packages (0.42.1)\n",
      "Note: you may need to restart the kernel to use updated packages.\n"
     ]
    }
   ],
   "source": [
    "pip install jieba\n"
   ]
  },
  {
   "cell_type": "code",
   "execution_count": 20,
   "metadata": {},
   "outputs": [
    {
     "name": "stdout",
     "output_type": "stream",
     "text": [
      "经济 的 笔记本\n",
      "经济 的 电脑\n",
      "经济 的 便携式计算机\n",
      "实惠 的 笔记本\n",
      "实惠 的 电脑\n",
      "实惠 的 便携式计算机\n",
      "低价 的 笔记本\n",
      "低价 的 电脑\n",
      "低价 的 便携式计算机\n"
     ]
    }
   ],
   "source": [
    "import jieba\n",
    "from itertools import product\n",
    "\n",
    "def expand_query(original_query, knowledge_base):\n",
    "    \"\"\"\n",
    "    扩展原始查询以提高搜索相关性\n",
    "    \n",
    "    参数:\n",
    "    original_query (str): 原始查询\n",
    "    knowledge_base (dict): 知识库，包含同义词和相关术语\n",
    "    \n",
    "    返回:\n",
    "    list: 扩展后的查询列表\n",
    "    \"\"\"\n",
    "    # 使用jieba进行分词\n",
    "    words = jieba.lcut(original_query)\n",
    "\n",
    "    expanded_queries = []\n",
    "\n",
    "    # 遍历查询中的每个词\n",
    "    for word in words:\n",
    "        # 如果该词在知识库中，替换为同义词或相关词汇\n",
    "        if word in knowledge_base:\n",
    "            expanded_queries.append(knowledge_base[word])  # 用相关词汇替换\n",
    "        else:\n",
    "            expanded_queries.append([word])  # 保留原始词\n",
    "\n",
    "    # 生成所有可能的查询组合\n",
    "    expanded_query_list = list(product(*expanded_queries))\n",
    "\n",
    "    # 将所有扩展后的查询列表转换为字符串形式\n",
    "    expanded_query_strings = [\" \".join(query) for query in expanded_query_list]\n",
    "\n",
    "    return expanded_query_strings\n",
    "\n",
    "\n",
    "# 测试\n",
    "query = \"便宜的笔记本电脑\"\n",
    "kb = {\n",
    "    \"笔记本电脑\": [\"笔记本\", \"电脑\", \"便携式计算机\"],\n",
    "    \"便宜\": [\"经济\", \"实惠\", \"低价\"],\n",
    "}\n",
    "\n",
    "expanded_queries = expand_query(query, kb)\n",
    "for q in expanded_queries:\n",
    "    print(q)\n"
   ]
  }
 ],
 "metadata": {
  "kernelspec": {
   "display_name": ".venv",
   "language": "python",
   "name": "python3"
  },
  "language_info": {
   "codemirror_mode": {
    "name": "ipython",
    "version": 3
   },
   "file_extension": ".py",
   "mimetype": "text/x-python",
   "name": "python",
   "nbconvert_exporter": "python",
   "pygments_lexer": "ipython3",
   "version": "3.8.10"
  }
 },
 "nbformat": 4,
 "nbformat_minor": 2
}
